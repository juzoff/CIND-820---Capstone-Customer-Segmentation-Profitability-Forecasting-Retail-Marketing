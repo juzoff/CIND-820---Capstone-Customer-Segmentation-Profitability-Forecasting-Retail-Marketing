{
  "nbformat": 4,
  "nbformat_minor": 0,
  "metadata": {
    "colab": {
      "provenance": []
    },
    "kernelspec": {
      "name": "python3",
      "display_name": "Python 3"
    },
    "language_info": {
      "name": "python"
    }
  },
  "cells": [
    {
      "cell_type": "markdown",
      "source": [
        "# Importing Sampled Stratified csv File"
      ],
      "metadata": {
        "id": "GFHcUSSaTpZZ"
      }
    },
    {
      "cell_type": "code",
      "execution_count": null,
      "metadata": {
        "id": "Kk8A9EVrTL1k"
      },
      "outputs": [],
      "source": [
        "from pandas import read_csv\n",
        "import pandas as pd\n",
        "\n",
        "# Specify the encoding as detected ('ascii')\n",
        "sampled_data = pd.read_csv('/content/Stratified_Sample.csv', encoding='ascii')  # Updated encoding to 'ascii'"
      ]
    },
    {
      "cell_type": "markdown",
      "source": [
        "# Data Preprocessing"
      ],
      "metadata": {
        "id": "P8LR0DjDTqJ3"
      }
    },
    {
      "cell_type": "markdown",
      "source": [
        "## Splitting into Training and Test Set using Sampled Dataset"
      ],
      "metadata": {
        "id": "JHn6_RzNTyvp"
      }
    },
    {
      "cell_type": "code",
      "source": [
        "from sklearn.model_selection import train_test_split\n",
        "\n",
        "# Assuming 'sampled_data' is your dataframe after sampling 20,000 rows\n",
        "\n",
        "# Split into train and test sets (e.g., 70% train, 30% test)\n",
        "train_data, test_data = train_test_split(sampled_data, test_size=0.3, random_state=42, shuffle=True)\n",
        "\n",
        "print(f\"Training set size: {train_data.shape}\")\n",
        "print(f\"Test set size: {test_data.shape}\")"
      ],
      "metadata": {
        "colab": {
          "base_uri": "https://localhost:8080/"
        },
        "id": "0dQpiWMyTvYo",
        "outputId": "a6471ebb-0795-4605-b255-5cf130086779"
      },
      "execution_count": null,
      "outputs": [
        {
          "output_type": "stream",
          "name": "stdout",
          "text": [
            "Training set size: (21000, 78)\n",
            "Test set size: (9000, 78)\n"
          ]
        }
      ]
    },
    {
      "cell_type": "markdown",
      "source": [
        "## Feature Engineering"
      ],
      "metadata": {
        "id": "RG8vmwNlUFPh"
      }
    },
    {
      "cell_type": "code",
      "source": [
        "#############################\n",
        "\n",
        "# Feature: High Value Purchase (based on avg_purchase_value)\n",
        "high_value_threshold = train_data['avg_purchase_value'].quantile(0.75)\n",
        "\n",
        "train_data['high_value_purchase'] = train_data['avg_purchase_value'] > high_value_threshold\n",
        "test_data['high_value_purchase'] = test_data['avg_purchase_value'] > high_value_threshold\n",
        "\n",
        "print(train_data[['customer_id', 'avg_purchase_value', 'high_value_purchase']].head())\n",
        "'''\n",
        "Customers with average purchase value above 75th percentile are marked as high-value purchasers.\n",
        "'''\n",
        "\n",
        "#############################\n",
        "\n",
        "# Feature: High Value Quantity (based on quantity)\n",
        "quantity_threshold = train_data['quantity'].quantile(0.75)\n",
        "\n",
        "train_data['high_value_quantity'] = train_data['quantity'] > quantity_threshold\n",
        "test_data['high_value_quantity'] = test_data['quantity'] > quantity_threshold\n",
        "\n",
        "print(train_data[['customer_id', 'quantity', 'high_value_quantity']].head())\n",
        "'''\n",
        "Flags transactions where quantity is above 75th percentile.\n",
        "Can identify bulk buyers.\n",
        "'''\n",
        "\n",
        "#############################\n",
        "\n",
        "# Change attribute name for accuracy: Total Return Rate\n",
        "\n",
        "train_data.rename(columns={'total_sales': 'total_sales_over_lastyear'}, inplace=True)\n",
        "test_data.rename(columns={'total_sales': 'total_sales_over_lastyear'}, inplace=True)"
      ],
      "metadata": {
        "colab": {
          "base_uri": "https://localhost:8080/"
        },
        "id": "dX8CdqPcT4Yd",
        "outputId": "7d77ace2-c3fd-4822-f96d-350aa695d6b6"
      },
      "execution_count": null,
      "outputs": [
        {
          "output_type": "stream",
          "name": "stdout",
          "text": [
            "       customer_id  avg_purchase_value  high_value_purchase\n",
            "28465       390174              244.82                False\n",
            "27622        70390              400.11                 True\n",
            "28376       815034              376.45                False\n",
            "10917       958323               42.65                False\n",
            "27234       737817              132.84                False\n",
            "       customer_id  quantity  high_value_quantity\n",
            "28465       390174         9                 True\n",
            "27622        70390         1                False\n",
            "28376       815034         7                False\n",
            "10917       958323         1                False\n",
            "27234       737817         4                False\n"
          ]
        }
      ]
    },
    {
      "cell_type": "markdown",
      "source": [
        "## Date Binning / Feature Extraction from Datetime Data"
      ],
      "metadata": {
        "id": "A6Ia49xdULX-"
      }
    },
    {
      "cell_type": "code",
      "source": [
        "# Date Binning/Feature Extraction for train_data\n",
        "train_data['transaction_month'] = pd.to_datetime(train_data['transaction_date']).dt.month\n",
        "train_data['transaction_year'] = pd.to_datetime(train_data['transaction_date']).dt.year\n",
        "# Extracts the month and year from the transaction date for trend analysis\n",
        "\n",
        "train_data['product_expiry_date_month'] = pd.to_datetime(train_data['product_expiry_date']).dt.month\n",
        "train_data['product_expiry_date_year'] = pd.to_datetime(train_data['product_expiry_date']).dt.year\n",
        "# Converts product expiry date into month and year for expiration trends\n",
        "\n",
        "train_data['product_manufacture_month'] = pd.to_datetime(train_data['product_manufacture_date']).dt.month\n",
        "train_data['product_manufacture_year'] = pd.to_datetime(train_data['product_manufacture_date']).dt.year\n",
        "# Extracts manufacturing month and year for production timeline analysis\n",
        "\n",
        "train_data['promotion_end_month'] = pd.to_datetime(train_data['promotion_end_date']).dt.month\n",
        "train_data['promotion_end_year'] = pd.to_datetime(train_data['promotion_end_date']).dt.year\n",
        "# Converts promotion end date into month and year for promotion end analysis\n",
        "\n",
        "train_data['last_purchase_month'] = pd.to_datetime(train_data['last_purchase_date']).dt.month\n",
        "train_data['last_purchase_year'] = pd.to_datetime(train_data['last_purchase_date']).dt.year\n",
        "# Extracts last purchase month and year for customer purchase behavior\n",
        "\n",
        "train_data['promotion_start_month'] = pd.to_datetime(train_data['promotion_start_date']).dt.month\n",
        "train_data['promotion_start_year'] = pd.to_datetime(train_data['promotion_start_date']).dt.year\n",
        "# Converts promotion start date into month and year for promotional activity timing\n",
        "\n",
        "# Date Binning/Feature Extraction for test_data\n",
        "test_data['transaction_month'] = pd.to_datetime(test_data['transaction_date']).dt.month\n",
        "test_data['transaction_year'] = pd.to_datetime(test_data['transaction_date']).dt.year\n",
        "# Extracts the month and year from the transaction date for trend analysis\n",
        "\n",
        "test_data['product_expiry_date_month'] = pd.to_datetime(test_data['product_expiry_date']).dt.month\n",
        "test_data['product_expiry_date_year'] = pd.to_datetime(test_data['product_expiry_date']).dt.year\n",
        "# Converts product expiry date into month and year for expiration trends\n",
        "\n",
        "test_data['product_manufacture_month'] = pd.to_datetime(test_data['product_manufacture_date']).dt.month\n",
        "test_data['product_manufacture_year'] = pd.to_datetime(test_data['product_manufacture_date']).dt.year\n",
        "# Extracts manufacturing month and year for production timeline analysis\n",
        "\n",
        "test_data['promotion_end_month'] = pd.to_datetime(test_data['promotion_end_date']).dt.month\n",
        "test_data['promotion_end_year'] = pd.to_datetime(test_data['promotion_end_date']).dt.year\n",
        "# Converts promotion end date into month and year for promotion end analysis\n",
        "\n",
        "test_data['last_purchase_month'] = pd.to_datetime(test_data['last_purchase_date']).dt.month\n",
        "test_data['last_purchase_year'] = pd.to_datetime(test_data['last_purchase_date']).dt.year\n",
        "# Extracts last purchase month and year for customer purchase behavior\n",
        "\n",
        "test_data['promotion_start_month'] = pd.to_datetime(test_data['promotion_start_date']).dt.month\n",
        "test_data['promotion_start_year'] = pd.to_datetime(test_data['promotion_start_date']).dt.year\n",
        "# Converts promotion start date into month and year for promotional activity timing\n",
        "\n",
        "# Define columns to drop\n",
        "date_columns_to_drop = [\n",
        "    'transaction_date',\n",
        "    'product_expiry_date',\n",
        "    'product_manufacture_date',\n",
        "    'promotion_end_date',\n",
        "    'last_purchase_date',\n",
        "    'promotion_start_date'\n",
        "]\n",
        "\n",
        "# Drop original date columns from train_data and test_data\n",
        "train_data = train_data.drop(columns=date_columns_to_drop)\n",
        "test_data = test_data.drop(columns=date_columns_to_drop)\n",
        "\n",
        "# Verify columns after dropping original dates\n",
        "print(\"Train data columns after dropping original dates:\")\n",
        "print(train_data.columns.tolist())\n",
        "print(\"\\nTest data columns after dropping original dates:\")\n",
        "print(test_data.columns.tolist())"
      ],
      "metadata": {
        "colab": {
          "base_uri": "https://localhost:8080/"
        },
        "id": "uAsOOmRFUL_8",
        "outputId": "2ffa6777-0fa7-4915-c1ae-0e61466263d8"
      },
      "execution_count": null,
      "outputs": [
        {
          "output_type": "stream",
          "name": "stdout",
          "text": [
            "Train data columns after dropping original dates:\n",
            "['customer_id', 'age', 'gender', 'income_bracket', 'loyalty_program', 'membership_years', 'churned', 'marital_status', 'number_of_children', 'education_level', 'occupation', 'transaction_id', 'product_id', 'product_category', 'quantity', 'unit_price', 'discount_applied', 'payment_method', 'store_location', 'transaction_hour', 'day_of_week', 'week_of_year', 'month_of_year', 'avg_purchase_value', 'purchase_frequency', 'avg_discount_used', 'preferred_store', 'online_purchases', 'in_store_purchases', 'avg_items_per_transaction', 'avg_transaction_value', 'total_returned_items', 'total_returned_value', 'total_sales_over_lastyear', 'total_transactions', 'total_items_purchased', 'total_discounts_received', 'avg_spent_per_category', 'max_single_purchase_value', 'min_single_purchase_value', 'product_name', 'product_brand', 'product_rating', 'product_review_count', 'product_stock', 'product_return_rate', 'product_size', 'product_weight', 'product_color', 'product_material', 'product_shelf_life', 'promotion_id', 'promotion_type', 'promotion_effectiveness', 'promotion_channel', 'promotion_target_audience', 'customer_zip_code', 'customer_city', 'customer_state', 'store_zip_code', 'store_city', 'store_state', 'distance_to_store', 'holiday_season', 'season', 'weekend', 'customer_support_calls', 'email_subscriptions', 'app_usage', 'website_visits', 'social_media_engagement', 'days_since_last_purchase', 'high_value_purchase', 'high_value_quantity', 'transaction_month', 'transaction_year', 'product_expiry_date_month', 'product_expiry_date_year', 'product_manufacture_month', 'product_manufacture_year', 'promotion_end_month', 'promotion_end_year', 'last_purchase_month', 'last_purchase_year', 'promotion_start_month', 'promotion_start_year']\n",
            "\n",
            "Test data columns after dropping original dates:\n",
            "['customer_id', 'age', 'gender', 'income_bracket', 'loyalty_program', 'membership_years', 'churned', 'marital_status', 'number_of_children', 'education_level', 'occupation', 'transaction_id', 'product_id', 'product_category', 'quantity', 'unit_price', 'discount_applied', 'payment_method', 'store_location', 'transaction_hour', 'day_of_week', 'week_of_year', 'month_of_year', 'avg_purchase_value', 'purchase_frequency', 'avg_discount_used', 'preferred_store', 'online_purchases', 'in_store_purchases', 'avg_items_per_transaction', 'avg_transaction_value', 'total_returned_items', 'total_returned_value', 'total_sales_over_lastyear', 'total_transactions', 'total_items_purchased', 'total_discounts_received', 'avg_spent_per_category', 'max_single_purchase_value', 'min_single_purchase_value', 'product_name', 'product_brand', 'product_rating', 'product_review_count', 'product_stock', 'product_return_rate', 'product_size', 'product_weight', 'product_color', 'product_material', 'product_shelf_life', 'promotion_id', 'promotion_type', 'promotion_effectiveness', 'promotion_channel', 'promotion_target_audience', 'customer_zip_code', 'customer_city', 'customer_state', 'store_zip_code', 'store_city', 'store_state', 'distance_to_store', 'holiday_season', 'season', 'weekend', 'customer_support_calls', 'email_subscriptions', 'app_usage', 'website_visits', 'social_media_engagement', 'days_since_last_purchase', 'high_value_purchase', 'high_value_quantity', 'transaction_month', 'transaction_year', 'product_expiry_date_month', 'product_expiry_date_year', 'product_manufacture_month', 'product_manufacture_year', 'promotion_end_month', 'promotion_end_year', 'last_purchase_month', 'last_purchase_year', 'promotion_start_month', 'promotion_start_year']\n"
          ]
        }
      ]
    },
    {
      "cell_type": "markdown",
      "source": [
        "## Unusual Outliers Check"
      ],
      "metadata": {
        "id": "4joTJsRcUOTW"
      }
    },
    {
      "cell_type": "code",
      "source": [
        "import pandas as pd\n",
        "import numpy as np\n",
        "\n",
        "# Set pandas options to display all columns\n",
        "pd.set_option('display.max_columns', None)\n",
        "pd.set_option('display.max_rows', None)\n",
        "\n",
        "# Function to detect outliers using IQR\n",
        "def detect_outliers_iqr(data):\n",
        "    numerical_cols = data.select_dtypes(include=np.number).columns\n",
        "    outliers_iqr = {}\n",
        "\n",
        "    for col in numerical_cols:\n",
        "        Q1 = data[col].quantile(0.25)\n",
        "        Q3 = data[col].quantile(0.75)\n",
        "        IQR = Q3 - Q1\n",
        "\n",
        "        lower_bound = Q1 - 1.5 * IQR\n",
        "        upper_bound = Q3 + 1.5 * IQR\n",
        "\n",
        "        outliers = data[(data[col] < lower_bound) | (data[col] > upper_bound)][col]\n",
        "        outliers_iqr[col] = {\n",
        "            'count': len(outliers),\n",
        "            'percentage': (len(outliers) / len(data)) * 100,\n",
        "            'outlier_values': outliers.values\n",
        "        }\n",
        "\n",
        "    return outliers_iqr\n",
        "\n",
        "#############################\n",
        "\n",
        "# Detect and print outliers in TRAINING SET\n",
        "print(\"\\n=== Outliers (IQR Method) – Train Data ===\")\n",
        "outliers_iqr_train = detect_outliers_iqr(train_data)\n",
        "\n",
        "for col, info in outliers_iqr_train.items():\n",
        "    print(f\"\\nColumn: {col}\")\n",
        "    print(f\"Number of outliers: {info['count']}\")\n",
        "    print(f\"Percentage of outliers: {info['percentage']:.2f}%\")\n",
        "    if info['count'] > 0:\n",
        "        print(f\"Outlier values: {info['outlier_values'][:10]}\")  # Show first 10\n",
        "\n",
        "#############################\n",
        "\n",
        "# Detect and print outliers in TEST SET\n",
        "print(\"\\n=== Outliers (IQR Method) – Test Data ===\")\n",
        "outliers_iqr_test = detect_outliers_iqr(test_data)\n",
        "\n",
        "for col, info in outliers_iqr_test.items():\n",
        "    print(f\"\\nColumn: {col}\")\n",
        "    print(f\"Number of outliers: {info['count']}\")\n",
        "    print(f\"Percentage of outliers: {info['percentage']:.2f}%\")\n",
        "    if info['count'] > 0:\n",
        "        print(f\"Outlier values: {info['outlier_values'][:10]}\")  # Show first 10\n"
      ],
      "metadata": {
        "colab": {
          "base_uri": "https://localhost:8080/"
        },
        "id": "bXIBqcEvUQRd",
        "outputId": "28c435b4-8cac-463c-ba6a-749bf8c6a980"
      },
      "execution_count": null,
      "outputs": [
        {
          "output_type": "stream",
          "name": "stdout",
          "text": [
            "\n",
            "=== Outliers (IQR Method) – Train Data ===\n",
            "\n",
            "Column: customer_id\n",
            "Number of outliers: 0\n",
            "Percentage of outliers: 0.00%\n",
            "\n",
            "Column: age\n",
            "Number of outliers: 0\n",
            "Percentage of outliers: 0.00%\n",
            "\n",
            "Column: membership_years\n",
            "Number of outliers: 0\n",
            "Percentage of outliers: 0.00%\n",
            "\n",
            "Column: number_of_children\n",
            "Number of outliers: 0\n",
            "Percentage of outliers: 0.00%\n",
            "\n",
            "Column: transaction_id\n",
            "Number of outliers: 0\n",
            "Percentage of outliers: 0.00%\n",
            "\n",
            "Column: product_id\n",
            "Number of outliers: 0\n",
            "Percentage of outliers: 0.00%\n",
            "\n",
            "Column: quantity\n",
            "Number of outliers: 0\n",
            "Percentage of outliers: 0.00%\n",
            "\n",
            "Column: unit_price\n",
            "Number of outliers: 0\n",
            "Percentage of outliers: 0.00%\n",
            "\n",
            "Column: discount_applied\n",
            "Number of outliers: 0\n",
            "Percentage of outliers: 0.00%\n",
            "\n",
            "Column: transaction_hour\n",
            "Number of outliers: 0\n",
            "Percentage of outliers: 0.00%\n",
            "\n",
            "Column: week_of_year\n",
            "Number of outliers: 0\n",
            "Percentage of outliers: 0.00%\n",
            "\n",
            "Column: month_of_year\n",
            "Number of outliers: 0\n",
            "Percentage of outliers: 0.00%\n",
            "\n",
            "Column: avg_purchase_value\n",
            "Number of outliers: 0\n",
            "Percentage of outliers: 0.00%\n",
            "\n",
            "Column: avg_discount_used\n",
            "Number of outliers: 0\n",
            "Percentage of outliers: 0.00%\n",
            "\n",
            "Column: online_purchases\n",
            "Number of outliers: 0\n",
            "Percentage of outliers: 0.00%\n",
            "\n",
            "Column: in_store_purchases\n",
            "Number of outliers: 0\n",
            "Percentage of outliers: 0.00%\n",
            "\n",
            "Column: avg_items_per_transaction\n",
            "Number of outliers: 0\n",
            "Percentage of outliers: 0.00%\n",
            "\n",
            "Column: avg_transaction_value\n",
            "Number of outliers: 0\n",
            "Percentage of outliers: 0.00%\n",
            "\n",
            "Column: total_returned_items\n",
            "Number of outliers: 0\n",
            "Percentage of outliers: 0.00%\n",
            "\n",
            "Column: total_returned_value\n",
            "Number of outliers: 0\n",
            "Percentage of outliers: 0.00%\n",
            "\n",
            "Column: total_sales_over_lastyear\n",
            "Number of outliers: 0\n",
            "Percentage of outliers: 0.00%\n",
            "\n",
            "Column: total_transactions\n",
            "Number of outliers: 0\n",
            "Percentage of outliers: 0.00%\n",
            "\n",
            "Column: total_items_purchased\n",
            "Number of outliers: 0\n",
            "Percentage of outliers: 0.00%\n",
            "\n",
            "Column: total_discounts_received\n",
            "Number of outliers: 0\n",
            "Percentage of outliers: 0.00%\n",
            "\n",
            "Column: avg_spent_per_category\n",
            "Number of outliers: 0\n",
            "Percentage of outliers: 0.00%\n",
            "\n",
            "Column: max_single_purchase_value\n",
            "Number of outliers: 0\n",
            "Percentage of outliers: 0.00%\n",
            "\n",
            "Column: min_single_purchase_value\n",
            "Number of outliers: 0\n",
            "Percentage of outliers: 0.00%\n",
            "\n",
            "Column: product_rating\n",
            "Number of outliers: 0\n",
            "Percentage of outliers: 0.00%\n",
            "\n",
            "Column: product_review_count\n",
            "Number of outliers: 0\n",
            "Percentage of outliers: 0.00%\n",
            "\n",
            "Column: product_stock\n",
            "Number of outliers: 0\n",
            "Percentage of outliers: 0.00%\n",
            "\n",
            "Column: product_return_rate\n",
            "Number of outliers: 0\n",
            "Percentage of outliers: 0.00%\n",
            "\n",
            "Column: product_weight\n",
            "Number of outliers: 0\n",
            "Percentage of outliers: 0.00%\n",
            "\n",
            "Column: product_shelf_life\n",
            "Number of outliers: 0\n",
            "Percentage of outliers: 0.00%\n",
            "\n",
            "Column: promotion_id\n",
            "Number of outliers: 0\n",
            "Percentage of outliers: 0.00%\n",
            "\n",
            "Column: customer_zip_code\n",
            "Number of outliers: 0\n",
            "Percentage of outliers: 0.00%\n",
            "\n",
            "Column: store_zip_code\n",
            "Number of outliers: 0\n",
            "Percentage of outliers: 0.00%\n",
            "\n",
            "Column: distance_to_store\n",
            "Number of outliers: 0\n",
            "Percentage of outliers: 0.00%\n",
            "\n",
            "Column: customer_support_calls\n",
            "Number of outliers: 0\n",
            "Percentage of outliers: 0.00%\n",
            "\n",
            "Column: website_visits\n",
            "Number of outliers: 0\n",
            "Percentage of outliers: 0.00%\n",
            "\n",
            "Column: days_since_last_purchase\n",
            "Number of outliers: 0\n",
            "Percentage of outliers: 0.00%\n",
            "\n",
            "Column: transaction_month\n",
            "Number of outliers: 0\n",
            "Percentage of outliers: 0.00%\n",
            "\n",
            "Column: transaction_year\n",
            "Number of outliers: 0\n",
            "Percentage of outliers: 0.00%\n",
            "\n",
            "Column: product_expiry_date_month\n",
            "Number of outliers: 0\n",
            "Percentage of outliers: 0.00%\n",
            "\n",
            "Column: product_expiry_date_year\n",
            "Number of outliers: 0\n",
            "Percentage of outliers: 0.00%\n",
            "\n",
            "Column: product_manufacture_month\n",
            "Number of outliers: 0\n",
            "Percentage of outliers: 0.00%\n",
            "\n",
            "Column: product_manufacture_year\n",
            "Number of outliers: 0\n",
            "Percentage of outliers: 0.00%\n",
            "\n",
            "Column: promotion_end_month\n",
            "Number of outliers: 0\n",
            "Percentage of outliers: 0.00%\n",
            "\n",
            "Column: promotion_end_year\n",
            "Number of outliers: 0\n",
            "Percentage of outliers: 0.00%\n",
            "\n",
            "Column: last_purchase_month\n",
            "Number of outliers: 0\n",
            "Percentage of outliers: 0.00%\n",
            "\n",
            "Column: last_purchase_year\n",
            "Number of outliers: 0\n",
            "Percentage of outliers: 0.00%\n",
            "\n",
            "Column: promotion_start_month\n",
            "Number of outliers: 0\n",
            "Percentage of outliers: 0.00%\n",
            "\n",
            "Column: promotion_start_year\n",
            "Number of outliers: 0\n",
            "Percentage of outliers: 0.00%\n",
            "\n",
            "=== Outliers (IQR Method) – Test Data ===\n",
            "\n",
            "Column: customer_id\n",
            "Number of outliers: 0\n",
            "Percentage of outliers: 0.00%\n",
            "\n",
            "Column: age\n",
            "Number of outliers: 0\n",
            "Percentage of outliers: 0.00%\n",
            "\n",
            "Column: membership_years\n",
            "Number of outliers: 0\n",
            "Percentage of outliers: 0.00%\n",
            "\n",
            "Column: number_of_children\n",
            "Number of outliers: 0\n",
            "Percentage of outliers: 0.00%\n",
            "\n",
            "Column: transaction_id\n",
            "Number of outliers: 0\n",
            "Percentage of outliers: 0.00%\n",
            "\n",
            "Column: product_id\n",
            "Number of outliers: 0\n",
            "Percentage of outliers: 0.00%\n",
            "\n",
            "Column: quantity\n",
            "Number of outliers: 0\n",
            "Percentage of outliers: 0.00%\n",
            "\n",
            "Column: unit_price\n",
            "Number of outliers: 0\n",
            "Percentage of outliers: 0.00%\n",
            "\n",
            "Column: discount_applied\n",
            "Number of outliers: 0\n",
            "Percentage of outliers: 0.00%\n",
            "\n",
            "Column: transaction_hour\n",
            "Number of outliers: 0\n",
            "Percentage of outliers: 0.00%\n",
            "\n",
            "Column: week_of_year\n",
            "Number of outliers: 0\n",
            "Percentage of outliers: 0.00%\n",
            "\n",
            "Column: month_of_year\n",
            "Number of outliers: 0\n",
            "Percentage of outliers: 0.00%\n",
            "\n",
            "Column: avg_purchase_value\n",
            "Number of outliers: 0\n",
            "Percentage of outliers: 0.00%\n",
            "\n",
            "Column: avg_discount_used\n",
            "Number of outliers: 0\n",
            "Percentage of outliers: 0.00%\n",
            "\n",
            "Column: online_purchases\n",
            "Number of outliers: 0\n",
            "Percentage of outliers: 0.00%\n",
            "\n",
            "Column: in_store_purchases\n",
            "Number of outliers: 0\n",
            "Percentage of outliers: 0.00%\n",
            "\n",
            "Column: avg_items_per_transaction\n",
            "Number of outliers: 0\n",
            "Percentage of outliers: 0.00%\n",
            "\n",
            "Column: avg_transaction_value\n",
            "Number of outliers: 0\n",
            "Percentage of outliers: 0.00%\n",
            "\n",
            "Column: total_returned_items\n",
            "Number of outliers: 0\n",
            "Percentage of outliers: 0.00%\n",
            "\n",
            "Column: total_returned_value\n",
            "Number of outliers: 0\n",
            "Percentage of outliers: 0.00%\n",
            "\n",
            "Column: total_sales_over_lastyear\n",
            "Number of outliers: 0\n",
            "Percentage of outliers: 0.00%\n",
            "\n",
            "Column: total_transactions\n",
            "Number of outliers: 0\n",
            "Percentage of outliers: 0.00%\n",
            "\n",
            "Column: total_items_purchased\n",
            "Number of outliers: 0\n",
            "Percentage of outliers: 0.00%\n",
            "\n",
            "Column: total_discounts_received\n",
            "Number of outliers: 0\n",
            "Percentage of outliers: 0.00%\n",
            "\n",
            "Column: avg_spent_per_category\n",
            "Number of outliers: 0\n",
            "Percentage of outliers: 0.00%\n",
            "\n",
            "Column: max_single_purchase_value\n",
            "Number of outliers: 0\n",
            "Percentage of outliers: 0.00%\n",
            "\n",
            "Column: min_single_purchase_value\n",
            "Number of outliers: 0\n",
            "Percentage of outliers: 0.00%\n",
            "\n",
            "Column: product_rating\n",
            "Number of outliers: 0\n",
            "Percentage of outliers: 0.00%\n",
            "\n",
            "Column: product_review_count\n",
            "Number of outliers: 0\n",
            "Percentage of outliers: 0.00%\n",
            "\n",
            "Column: product_stock\n",
            "Number of outliers: 0\n",
            "Percentage of outliers: 0.00%\n",
            "\n",
            "Column: product_return_rate\n",
            "Number of outliers: 0\n",
            "Percentage of outliers: 0.00%\n",
            "\n",
            "Column: product_weight\n",
            "Number of outliers: 0\n",
            "Percentage of outliers: 0.00%\n",
            "\n",
            "Column: product_shelf_life\n",
            "Number of outliers: 0\n",
            "Percentage of outliers: 0.00%\n",
            "\n",
            "Column: promotion_id\n",
            "Number of outliers: 0\n",
            "Percentage of outliers: 0.00%\n",
            "\n",
            "Column: customer_zip_code\n",
            "Number of outliers: 0\n",
            "Percentage of outliers: 0.00%\n",
            "\n",
            "Column: store_zip_code\n",
            "Number of outliers: 0\n",
            "Percentage of outliers: 0.00%\n",
            "\n",
            "Column: distance_to_store\n",
            "Number of outliers: 0\n",
            "Percentage of outliers: 0.00%\n",
            "\n",
            "Column: customer_support_calls\n",
            "Number of outliers: 0\n",
            "Percentage of outliers: 0.00%\n",
            "\n",
            "Column: website_visits\n",
            "Number of outliers: 0\n",
            "Percentage of outliers: 0.00%\n",
            "\n",
            "Column: days_since_last_purchase\n",
            "Number of outliers: 0\n",
            "Percentage of outliers: 0.00%\n",
            "\n",
            "Column: transaction_month\n",
            "Number of outliers: 0\n",
            "Percentage of outliers: 0.00%\n",
            "\n",
            "Column: transaction_year\n",
            "Number of outliers: 0\n",
            "Percentage of outliers: 0.00%\n",
            "\n",
            "Column: product_expiry_date_month\n",
            "Number of outliers: 0\n",
            "Percentage of outliers: 0.00%\n",
            "\n",
            "Column: product_expiry_date_year\n",
            "Number of outliers: 0\n",
            "Percentage of outliers: 0.00%\n",
            "\n",
            "Column: product_manufacture_month\n",
            "Number of outliers: 0\n",
            "Percentage of outliers: 0.00%\n",
            "\n",
            "Column: product_manufacture_year\n",
            "Number of outliers: 0\n",
            "Percentage of outliers: 0.00%\n",
            "\n",
            "Column: promotion_end_month\n",
            "Number of outliers: 0\n",
            "Percentage of outliers: 0.00%\n",
            "\n",
            "Column: promotion_end_year\n",
            "Number of outliers: 0\n",
            "Percentage of outliers: 0.00%\n",
            "\n",
            "Column: last_purchase_month\n",
            "Number of outliers: 0\n",
            "Percentage of outliers: 0.00%\n",
            "\n",
            "Column: last_purchase_year\n",
            "Number of outliers: 0\n",
            "Percentage of outliers: 0.00%\n",
            "\n",
            "Column: promotion_start_month\n",
            "Number of outliers: 0\n",
            "Percentage of outliers: 0.00%\n",
            "\n",
            "Column: promotion_start_year\n",
            "Number of outliers: 0\n",
            "Percentage of outliers: 0.00%\n"
          ]
        }
      ]
    },
    {
      "cell_type": "code",
      "source": [
        "#discount_sensitivity\n",
        "\n",
        "'''\n",
        "The original discount_sensitivity formula (total_discounts_received / total_items_purchased), which produces outliers like 79.81, 25.62, and 17.40, could be explained by customers receiving massive discounts during huge sales events (e.g., Black Friday, clearance sales, or bulk promotions), where high total_discounts_received values are divided by relatively low total_items_purchased, resulting in an inflated average discount per item.\n",
        "'''"
      ],
      "metadata": {
        "id": "1An7P-FPUgSw",
        "colab": {
          "base_uri": "https://localhost:8080/",
          "height": 53
        },
        "outputId": "c584cbcd-3ae0-4682-dddd-48bad07bf317"
      },
      "execution_count": null,
      "outputs": [
        {
          "output_type": "execute_result",
          "data": {
            "text/plain": [
              "'\\nThe original discount_sensitivity formula (total_discounts_received / total_items_purchased), which produces outliers like 79.81, 25.62, and 17.40, could be explained by customers receiving massive discounts during huge sales events (e.g., Black Friday, clearance sales, or bulk promotions), where high total_discounts_received values are divided by relatively low total_items_purchased, resulting in an inflated average discount per item.\\n'"
            ],
            "application/vnd.google.colaboratory.intrinsic+json": {
              "type": "string"
            }
          },
          "metadata": {},
          "execution_count": 6
        }
      ]
    },
    {
      "cell_type": "code",
      "source": [
        "# avg_transaction_value\n",
        "\n",
        "'''\n",
        "The extreme outliers in avg_transaction_value (e.g., 1518.80, 1177.00, 924.93), flagged as 11.54% of the data, can be explained by customers purchasing high-valued products (e.g., luxury goods, electronics, or bulk orders), where even a single transaction significantly exceeds typical purchase amounts. This naturally results in higher avg_transaction_value, contributing to the skewed distribution and emphasizing the disparity between standard and high-end purchasing behaviors.\n",
        "'''"
      ],
      "metadata": {
        "id": "8kRloOEcVX_Q",
        "colab": {
          "base_uri": "https://localhost:8080/",
          "height": 53
        },
        "outputId": "4d0debf6-9a7e-4f82-cd0a-7a0b9bb67631"
      },
      "execution_count": null,
      "outputs": [
        {
          "output_type": "execute_result",
          "data": {
            "text/plain": [
              "'\\nThe extreme outliers in avg_transaction_value (e.g., 1518.80, 1177.00, 924.93), flagged as 11.54% of the data, can be explained by customers purchasing high-valued products (e.g., luxury goods, electronics, or bulk orders), where even a single transaction significantly exceeds typical purchase amounts. This naturally results in higher avg_transaction_value, contributing to the skewed distribution and emphasizing the disparity between standard and high-end purchasing behaviors.\\n'"
            ],
            "application/vnd.google.colaboratory.intrinsic+json": {
              "type": "string"
            }
          },
          "metadata": {},
          "execution_count": 7
        }
      ]
    },
    {
      "cell_type": "code",
      "source": [
        "#avg_discount_per_transaction\n",
        "\n",
        "'''\n",
        "The extreme outliers in avg_discount_per_transaction (e.g., 872.87, 177.08), flagged as 11.57% of the data, can be explained by customers purchasing high-valued products (e.g., luxury goods, electronics, or bulk orders), where even a moderate discount percentage (e.g., 10–20%) applied to a high avg_transaction_value (e.g., $8,000) results in a large absolute discount per transaction, inflating the average and contributing to the skewed distribution\n",
        "'''"
      ],
      "metadata": {
        "id": "yvdtaQ5wUg2s",
        "colab": {
          "base_uri": "https://localhost:8080/",
          "height": 53
        },
        "outputId": "6fcd96b4-3960-4f5f-a4b6-fb78819e0dbe"
      },
      "execution_count": null,
      "outputs": [
        {
          "output_type": "execute_result",
          "data": {
            "text/plain": [
              "'\\nThe extreme outliers in avg_discount_per_transaction (e.g., 872.87, 177.08), flagged as 11.57% of the data, can be explained by customers purchasing high-valued products (e.g., luxury goods, electronics, or bulk orders), where even a moderate discount percentage (e.g., 10–20%) applied to a high avg_transaction_value (e.g., $8,000) results in a large absolute discount per transaction, inflating the average and contributing to the skewed distribution\\n'"
            ],
            "application/vnd.google.colaboratory.intrinsic+json": {
              "type": "string"
            }
          },
          "metadata": {},
          "execution_count": 8
        }
      ]
    },
    {
      "cell_type": "code",
      "source": [
        "#total_return_rate\n",
        "\n",
        "'''\n",
        "The unusual outliers in total_return_rate, with 2,231 outliers (11.15%) and values like 0.42 (42%), 0.22 (22%), 0.18 (18%), 0.15 (15%), and 0.11 (11%), can be explained by customers returning items at a larger rate due to factors such as purchasing defective products, exploiting lenient return policies, or engaging in high-risk buying behaviors (e.g., buying multiple items to try and return), leading to elevated return rates that skew the distribution and produce a high percentage of outliers.\n",
        "'''"
      ],
      "metadata": {
        "id": "HdZFnWHaUirr",
        "colab": {
          "base_uri": "https://localhost:8080/",
          "height": 53
        },
        "outputId": "5e98c5ac-a2e7-40e9-e957-ef3fa5411207"
      },
      "execution_count": null,
      "outputs": [
        {
          "output_type": "execute_result",
          "data": {
            "text/plain": [
              "'\\nThe unusual outliers in total_return_rate, with 2,231 outliers (11.15%) and values like 0.42 (42%), 0.22 (22%), 0.18 (18%), 0.15 (15%), and 0.11 (11%), can be explained by customers returning items at a larger rate due to factors such as purchasing defective products, exploiting lenient return policies, or engaging in high-risk buying behaviors (e.g., buying multiple items to try and return), leading to elevated return rates that skew the distribution and produce a high percentage of outliers.\\n'"
            ],
            "application/vnd.google.colaboratory.intrinsic+json": {
              "type": "string"
            }
          },
          "metadata": {},
          "execution_count": 9
        }
      ]
    },
    {
      "cell_type": "code",
      "metadata": {
        "colab": {
          "base_uri": "https://localhost:8080/"
        },
        "id": "e4d7fabc",
        "outputId": "1150a8d7-0e11-4bb6-a1f3-df0bcd40a504"
      },
      "source": [
        "# Save train_data and test_data to CSV files\n",
        "train_data.to_csv('Stratified_train_data.csv', index=False)\n",
        "test_data.to_csv('Stratified_test_data.csv', index=False)\n",
        "\n",
        "print(\"Train data saved to 'Stratified_train_data.csv'\")\n",
        "print(\"Test data saved to 'Stratified_test_data.csv'\")"
      ],
      "execution_count": null,
      "outputs": [
        {
          "output_type": "stream",
          "name": "stdout",
          "text": [
            "Train data saved to 'Stratified_train_data.csv'\n",
            "Test data saved to 'Stratified_test_data.csv'\n"
          ]
        }
      ]
    },
    {
      "cell_type": "code",
      "source": [
        "train_data.info()"
      ],
      "metadata": {
        "id": "IdLRcYvQ6mB0",
        "outputId": "e52b52fd-aeed-4fb3-8701-e1331aecc3d1",
        "colab": {
          "base_uri": "https://localhost:8080/"
        }
      },
      "execution_count": null,
      "outputs": [
        {
          "output_type": "stream",
          "name": "stdout",
          "text": [
            "<class 'pandas.core.frame.DataFrame'>\n",
            "Index: 21000 entries, 28465 to 23654\n",
            "Data columns (total 86 columns):\n",
            " #   Column                     Non-Null Count  Dtype  \n",
            "---  ------                     --------------  -----  \n",
            " 0   customer_id                21000 non-null  int64  \n",
            " 1   age                        21000 non-null  int64  \n",
            " 2   gender                     21000 non-null  object \n",
            " 3   income_bracket             21000 non-null  object \n",
            " 4   loyalty_program            21000 non-null  object \n",
            " 5   membership_years           21000 non-null  int64  \n",
            " 6   churned                    21000 non-null  object \n",
            " 7   marital_status             21000 non-null  object \n",
            " 8   number_of_children         21000 non-null  int64  \n",
            " 9   education_level            21000 non-null  object \n",
            " 10  occupation                 21000 non-null  object \n",
            " 11  transaction_id             21000 non-null  int64  \n",
            " 12  product_id                 21000 non-null  int64  \n",
            " 13  product_category           21000 non-null  object \n",
            " 14  quantity                   21000 non-null  int64  \n",
            " 15  unit_price                 21000 non-null  float64\n",
            " 16  discount_applied           21000 non-null  float64\n",
            " 17  payment_method             21000 non-null  object \n",
            " 18  store_location             21000 non-null  object \n",
            " 19  transaction_hour           21000 non-null  int64  \n",
            " 20  day_of_week                21000 non-null  object \n",
            " 21  week_of_year               21000 non-null  int64  \n",
            " 22  month_of_year              21000 non-null  int64  \n",
            " 23  avg_purchase_value         21000 non-null  float64\n",
            " 24  purchase_frequency         21000 non-null  object \n",
            " 25  avg_discount_used          21000 non-null  float64\n",
            " 26  preferred_store            21000 non-null  object \n",
            " 27  online_purchases           21000 non-null  int64  \n",
            " 28  in_store_purchases         21000 non-null  int64  \n",
            " 29  avg_items_per_transaction  21000 non-null  float64\n",
            " 30  avg_transaction_value      21000 non-null  float64\n",
            " 31  total_returned_items       21000 non-null  int64  \n",
            " 32  total_returned_value       21000 non-null  float64\n",
            " 33  total_sales_over_lastyear  21000 non-null  float64\n",
            " 34  total_transactions         21000 non-null  int64  \n",
            " 35  total_items_purchased      21000 non-null  int64  \n",
            " 36  total_discounts_received   21000 non-null  float64\n",
            " 37  avg_spent_per_category     21000 non-null  float64\n",
            " 38  max_single_purchase_value  21000 non-null  float64\n",
            " 39  min_single_purchase_value  21000 non-null  float64\n",
            " 40  product_name               21000 non-null  object \n",
            " 41  product_brand              21000 non-null  object \n",
            " 42  product_rating             21000 non-null  float64\n",
            " 43  product_review_count       21000 non-null  int64  \n",
            " 44  product_stock              21000 non-null  int64  \n",
            " 45  product_return_rate        21000 non-null  float64\n",
            " 46  product_size               21000 non-null  object \n",
            " 47  product_weight             21000 non-null  float64\n",
            " 48  product_color              21000 non-null  object \n",
            " 49  product_material           21000 non-null  object \n",
            " 50  product_shelf_life         21000 non-null  int64  \n",
            " 51  promotion_id               21000 non-null  int64  \n",
            " 52  promotion_type             21000 non-null  object \n",
            " 53  promotion_effectiveness    21000 non-null  object \n",
            " 54  promotion_channel          21000 non-null  object \n",
            " 55  promotion_target_audience  21000 non-null  object \n",
            " 56  customer_zip_code          21000 non-null  int64  \n",
            " 57  customer_city              21000 non-null  object \n",
            " 58  customer_state             21000 non-null  object \n",
            " 59  store_zip_code             21000 non-null  int64  \n",
            " 60  store_city                 21000 non-null  object \n",
            " 61  store_state                21000 non-null  object \n",
            " 62  distance_to_store          21000 non-null  float64\n",
            " 63  holiday_season             21000 non-null  object \n",
            " 64  season                     21000 non-null  object \n",
            " 65  weekend                    21000 non-null  object \n",
            " 66  customer_support_calls     21000 non-null  int64  \n",
            " 67  email_subscriptions        21000 non-null  object \n",
            " 68  app_usage                  21000 non-null  object \n",
            " 69  website_visits             21000 non-null  int64  \n",
            " 70  social_media_engagement    21000 non-null  object \n",
            " 71  days_since_last_purchase   21000 non-null  int64  \n",
            " 72  high_value_purchase        21000 non-null  bool   \n",
            " 73  high_value_quantity        21000 non-null  bool   \n",
            " 74  transaction_month          21000 non-null  int32  \n",
            " 75  transaction_year           21000 non-null  int32  \n",
            " 76  product_expiry_date_month  21000 non-null  int32  \n",
            " 77  product_expiry_date_year   21000 non-null  int32  \n",
            " 78  product_manufacture_month  21000 non-null  int32  \n",
            " 79  product_manufacture_year   21000 non-null  int32  \n",
            " 80  promotion_end_month        21000 non-null  int32  \n",
            " 81  promotion_end_year         21000 non-null  int32  \n",
            " 82  last_purchase_month        21000 non-null  int32  \n",
            " 83  last_purchase_year         21000 non-null  int32  \n",
            " 84  promotion_start_month      21000 non-null  int32  \n",
            " 85  promotion_start_year       21000 non-null  int32  \n",
            "dtypes: bool(2), float64(16), int32(12), int64(24), object(32)\n",
            "memory usage: 12.7+ MB\n"
          ]
        }
      ]
    }
  ]
}